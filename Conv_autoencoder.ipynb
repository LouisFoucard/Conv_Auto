{
 "cells": [
  {
   "cell_type": "code",
   "execution_count": 11,
   "metadata": {
    "collapsed": true
   },
   "outputs": [],
   "source": [
    "import os, sys, urllib, gzip\n",
    "import cPickle as pickle\n",
    "sys.setrecursionlimit(10000)\n",
    "import glob\n",
    "from IPython.display import clear_output"
   ]
  },
  {
   "cell_type": "code",
   "execution_count": 12,
   "metadata": {
    "collapsed": true
   },
   "outputs": [],
   "source": [
    "import matplotlib.pyplot as plt\n",
    "%matplotlib inline\n",
    "import numpy as np\n",
    "from IPython.display import Image as IPImage\n",
    "from PIL import Image"
   ]
  },
  {
   "cell_type": "code",
   "execution_count": 13,
   "metadata": {
    "collapsed": true
   },
   "outputs": [],
   "source": [
    "from lasagne.layers import get_output, InputLayer, DenseLayer, Upscale2DLayer, ReshapeLayer\n",
    "from lasagne.nonlinearities import rectify, leaky_rectify, tanh\n",
    "from lasagne.updates import nesterov_momentum\n",
    "from lasagne.objectives import categorical_crossentropy\n",
    "from nolearn.lasagne import NeuralNet, BatchIterator, PrintLayerInfo"
   ]
  },
  {
   "cell_type": "code",
   "execution_count": 14,
   "metadata": {
    "collapsed": true
   },
   "outputs": [],
   "source": [
    "from lasagne.layers import Conv2DLayer as Conv2DLayer\n",
    "from lasagne.layers import MaxPool2DLayer as MaxPool2DLayer"
   ]
  },
  {
   "cell_type": "code",
   "execution_count": 18,
   "metadata": {
    "collapsed": false
   },
   "outputs": [
    {
     "name": "stdout",
     "output_type": "stream",
     "text": [
      "(112, 112)\n",
      "X type and shape: float64 (301, 1, 112, 112)\n",
      "X.min(): 0.0\n",
      "X.max(): 1.0\n"
     ]
    }
   ],
   "source": [
    "ch = 1\n",
    "im = Image.open('../pics2/out1.png')\n",
    "print im.size\n",
    "if ch == 1:\n",
    "    im = im.convert('L')\n",
    "X = np.asarray(im.getdata()).reshape(112,112,ch).transpose(2,1,0) / 255.\n",
    "X = X.reshape(-1,ch,112,112)\n",
    "n = 0\n",
    "for filename in glob.glob(\"../pics2/*.png\"):\n",
    "    n = n + 1\n",
    "    im = Image.open(filename)\n",
    "    Xim = np.asarray(im.getdata()).reshape(112,112,ch).transpose(2,1,0) / 255.\n",
    "    Xim = Xim.reshape(-1,ch,112,112)\n",
    "    X = np.concatenate((X, Xim), axis=0)\n",
    "    if n==300:\n",
    "        break\n",
    "    \n",
    "print 'X type and shape:', X.dtype, X.shape\n",
    "print 'X.min():', X.min()\n",
    "print 'X.max():', X.max()"
   ]
  },
  {
   "cell_type": "code",
   "execution_count": 19,
   "metadata": {
    "collapsed": false
   },
   "outputs": [
    {
     "name": "stdout",
     "output_type": "stream",
     "text": [
      "X_out: float64 (301, 12544)\n"
     ]
    }
   ],
   "source": [
    "# we need our target to be 1 dimensional\n",
    "X_out = X.reshape((X.shape[0], -1))\n",
    "print 'X_out:', X_out.dtype, X_out.shape"
   ]
  },
  {
   "cell_type": "code",
   "execution_count": 20,
   "metadata": {
    "collapsed": false
   },
   "outputs": [],
   "source": [
    "conv_num_filters = 16\n",
    "filter_size = 3\n",
    "pool_size = 2\n",
    "encode_size = 16\n",
    "dense_mid_size = 128\n",
    "pad_in = 'valid'\n",
    "pad_out = 'full'\n",
    "layers = [\n",
    "    (InputLayer, {'shape': (None, X.shape[1], X.shape[2], X.shape[3])}), \n",
    "    (Conv2DLayer, {'num_filters': conv_num_filters, 'filter_size': filter_size, 'pad': pad_in}),\n",
    "    (Conv2DLayer, {'num_filters': conv_num_filters, 'filter_size': filter_size, 'pad': pad_in}),\n",
    "    (MaxPool2DLayer, {'pool_size': pool_size}),\n",
    "    (Conv2DLayer, {'num_filters': 2*conv_num_filters, 'filter_size': filter_size, 'pad': pad_in}),\n",
    "    (MaxPool2DLayer, {'pool_size': pool_size}),\n",
    "    (ReshapeLayer, {'shape': (([0], -1))}),\n",
    "    (DenseLayer, {'num_units': dense_mid_size}),\n",
    "    (DenseLayer, {'name': 'encode', 'num_units': encode_size}),\n",
    "    (DenseLayer, {'num_units': dense_mid_size}),\n",
    "    (DenseLayer, {'num_units': 21632}),\n",
    "    (ReshapeLayer, {'shape': (([0], 2*conv_num_filters, 26, 26))}),\n",
    "    (Upscale2DLayer, {'scale_factor': pool_size}),\n",
    "    (Conv2DLayer, {'num_filters': conv_num_filters, 'filter_size': filter_size, 'pad': pad_out}),\n",
    "    (Upscale2DLayer, {'scale_factor': pool_size}),\n",
    "    (Conv2DLayer, {'num_filters': conv_num_filters, 'filter_size': filter_size, 'pad': pad_out}),\n",
    "    (Conv2DLayer, {'num_filters': 1, 'filter_size': filter_size, 'pad': pad_out}),\n",
    "    (ReshapeLayer, {'shape': (([0], -1))}),\n",
    "]"
   ]
  },
  {
   "cell_type": "code",
   "execution_count": 21,
   "metadata": {
    "collapsed": true
   },
   "outputs": [],
   "source": [
    "ae = NeuralNet(\n",
    "    layers=layers,\n",
    "    max_epochs=20,\n",
    "    \n",
    "    update=nesterov_momentum,\n",
    "    update_learning_rate=0.01,\n",
    "    update_momentum=0.975,\n",
    "    \n",
    "    regression=True,\n",
    "    verbose=1\n",
    ")\n",
    "# ae.initialize()\n",
    "# PrintLayerInfo()(ae)"
   ]
  },
  {
   "cell_type": "code",
   "execution_count": 22,
   "metadata": {
    "collapsed": false
   },
   "outputs": [
    {
     "name": "stdout",
     "output_type": "stream",
     "text": [
      "# Neural Network with 5578001 learnable parameters\n",
      "\n",
      "## Layer information\n",
      "\n",
      "  #  name         size\n",
      "---  -----------  ----------\n",
      "  0  input0       1x112x112\n",
      "  1  conv2d1      16x110x110\n",
      "  2  conv2d2      16x108x108\n",
      "  3  maxpool2d3   16x54x54\n",
      "  4  conv2d4      32x52x52\n",
      "  5  maxpool2d5   32x26x26\n",
      "  6  reshape6     21632\n",
      "  7  dense7       128\n",
      "  8  encode       16\n",
      "  9  dense9       128\n",
      " 10  dense10      21632\n",
      " 11  reshape11    32x26x26\n",
      " 12  upscale2d12  32x52x52\n",
      " 13  conv2d13     16x54x54\n",
      " 14  upscale2d14  16x108x108\n",
      " 15  conv2d15     16x110x110\n",
      " 16  conv2d16     1x112x112\n",
      " 17  reshape17    12544\n",
      "\n",
      "  epoch    train loss    valid loss    train/val  dur\n",
      "-------  ------------  ------------  -----------  ------\n",
      "      1       \u001b[36m0.03394\u001b[0m       \u001b[32m0.06502\u001b[0m      0.52207  53.16s\n",
      "      2       \u001b[36m0.02975\u001b[0m       \u001b[32m0.05409\u001b[0m      0.55010  50.17s\n",
      "      3       \u001b[36m0.02393\u001b[0m       \u001b[32m0.04246\u001b[0m      0.56360  56.89s\n",
      "      4       \u001b[36m0.01949\u001b[0m       \u001b[32m0.03316\u001b[0m      0.58794  49.69s\n",
      "      5       \u001b[36m0.01800\u001b[0m       \u001b[32m0.02743\u001b[0m      0.65608  49.37s\n",
      "      6       0.01925       \u001b[32m0.02484\u001b[0m      0.77491  49.40s\n",
      "      7       0.02173       \u001b[32m0.02407\u001b[0m      0.90252  49.86s\n",
      "      8       0.02359       \u001b[32m0.02397\u001b[0m      0.98416  50.87s\n",
      "      9       0.02378       0.02417      0.98372  49.91s\n",
      "     10       0.02241       0.02498      0.89717  49.58s\n",
      "     11       0.02041       0.02681      0.76156  49.73s\n",
      "     12       0.01878       0.02970      0.63218  50.05s\n",
      "     13       0.01803       0.03322      0.54269  51.86s\n",
      "     14       0.01816       0.03657      0.49653  49.93s\n",
      "     15       0.01876       0.03918      0.47876  50.70s\n",
      "     16       0.01939       0.04065      0.47692  49.73s\n",
      "     17       0.01974       0.04084      0.48349  49.73s\n",
      "     18       0.01970       0.03985      0.49437  49.61s\n",
      "     19       0.01933       0.03803      0.50817  50.50s\n",
      "     20       0.01880       0.03578      0.52527  50.93s\n"
     ]
    },
    {
     "data": {
      "text/plain": [
       "NeuralNet(X_tensor_type=None,\n",
       "     batch_iterator_test=<nolearn.lasagne.base.BatchIterator object at 0x10d591450>,\n",
       "     batch_iterator_train=<nolearn.lasagne.base.BatchIterator object at 0x10d5913d0>,\n",
       "     custom_score=None,\n",
       "     layers=[(<class 'lasagne.layers.input.InputLayer'>, {'shape': (None, 1, 112, 112)}), (<class 'lasagne.layers.conv.Conv2DLayer'>, {'filter_size': 3, 'pad': 'valid', 'num_filters': 16}), (<class 'lasagne.layers.conv.Conv2DLayer'>, {'filter_size': 3, 'pad': 'valid', 'num_filters': 16}), (<class 'lasagn...d': 'full', 'num_filters': 1}), (<class 'lasagne.layers.shape.ReshapeLayer'>, {'shape': ([0], -1)})],\n",
       "     loss=None, max_epochs=20, more_params={},\n",
       "     objective=<function objective at 0x10d593500>,\n",
       "     objective_loss_function=<function squared_error at 0x10d2f0398>,\n",
       "     on_epoch_finished=[<nolearn.lasagne.handlers.PrintLog instance at 0x10e0e76c8>],\n",
       "     on_training_finished=[],\n",
       "     on_training_started=[<nolearn.lasagne.handlers.PrintLayerInfo instance at 0x10e0e7758>],\n",
       "     regression=True,\n",
       "     train_split=<nolearn.lasagne.base.TrainSplit object at 0x10d591490>,\n",
       "     update=<function nesterov_momentum at 0x10d2f0c08>,\n",
       "     update_learning_rate=0.01, update_momentum=0.975,\n",
       "     use_label_encoder=False, verbose=1,\n",
       "     y_tensor_type=TensorType(float64, matrix))"
      ]
     },
     "execution_count": 22,
     "metadata": {},
     "output_type": "execute_result"
    }
   ],
   "source": [
    "ae.fit(X, X_out)"
   ]
  },
  {
   "cell_type": "code",
   "execution_count": 23,
   "metadata": {
    "collapsed": false
   },
   "outputs": [
    {
     "data": {
      "image/png": "[encoded data removed]",
      "text/plain": [
       "<matplotlib.figure.Figure at 0x109dc2650>"
      ]
     },
     "metadata": {},
     "output_type": "display_data"
    }
   ],
   "source": [
    "from nolearn.lasagne.visualize import plot_loss\n",
    "plot_loss(ae)"
   ]
  },
  {
   "cell_type": "code",
   "execution_count": null,
   "metadata": {
    "collapsed": true
   },
   "outputs": [],
   "source": []
  }
 ],
 "metadata": {
  "kernelspec": {
   "display_name": "Python 2",
   "language": "python",
   "name": "python2"
  },
  "language_info": {
   "codemirror_mode": {
    "name": "ipython",
    "version": 2
   },
   "file_extension": ".py",
   "mimetype": "text/x-python",
   "name": "python",
   "nbconvert_exporter": "python",
   "pygments_lexer": "ipython2",
   "version": "2.7.10"
  }
 },
 "nbformat": 4,
 "nbformat_minor": 0
}
